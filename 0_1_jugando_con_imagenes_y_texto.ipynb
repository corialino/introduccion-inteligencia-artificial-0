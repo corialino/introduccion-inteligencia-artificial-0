{
  "nbformat": 4,
  "nbformat_minor": 0,
  "metadata": {
    "colab": {
      "name": "0.1-jugando-con-imagenes-y-texto.ipynb",
      "version": "0.3.2",
      "provenance": [],
      "collapsed_sections": []
    },
    "kernelspec": {
      "name": "python3",
      "display_name": "Python 3"
    },
    "accelerator": "GPU"
  },
  "cells": [
    {
      "cell_type": "markdown",
      "metadata": {
        "id": "v9IoZdcTxJRO",
        "colab_type": "text"
      },
      "source": [
        "# Jugando con datos: imágenes y texto\n",
        "\n",
        "En esta libreta vamos a cargar conjutos de imágenes y manipularlas un poco. Vamos a hacer esto para poder utilizarlas para entrenar modelos de aprendizaje automático. Si no entiendes lo que estoy diciendo, no te preocupes... vamos a ir paso por paso.\n",
        "\n",
        "En este curso vamos a utilizar TensorFlow y Keras, que es una API que nos hace la vida fácil."
      ]
    },
    {
      "cell_type": "code",
      "metadata": {
        "id": "cE-3uVBDzC0I",
        "colab_type": "code",
        "colab": {
          "base_uri": "https://localhost:8080/",
          "height": 34
        },
        "outputId": "9ade18bf-a6a2-491d-d586-4aba0d4dcb48"
      },
      "source": [
        "from __future__ import absolute_import, division, print_function\n",
        "\n",
        "# TensorFlow y tf.keras\n",
        "import tensorflow as tf\n",
        "from tensorflow import keras\n",
        "\n",
        "# Bibliotecas de apoyo\n",
        "import numpy as np\n",
        "import matplotlib.pyplot as plt\n",
        "\n",
        "# vamos a ver qué versión de TensorFlow estamos utilizando\n",
        "print(tf.__version__)"
      ],
      "execution_count": 1,
      "outputs": [
        {
          "output_type": "stream",
          "text": [
            "1.14.0\n"
          ],
          "name": "stdout"
        }
      ]
    },
    {
      "cell_type": "markdown",
      "metadata": {
        "id": "Mf5DV132xsA8",
        "colab_type": "text"
      },
      "source": [
        "## Imágenes\n",
        "\n",
        "### Imágenes en escala de grises\n",
        "Primero vamos a descargar un grupo de imágenes en blanco y negro... cuando hablamos de blanco y negro, en realidad hablamos de una escala de grises. Para la computadora, una imagen en escala de grises es una colección de números. Cada número representa un pixel. Estos números van del 0 (negro) hasta el 255 (blanco). Todos los demás números son una escala de grises. Entre más pequeño es un número, más oscuro el gris que representa.\n",
        "\n",
        "Para este ejemplo, vamos a utilizar un grupo de imágenes llamado **Fashion MNIST** que incluye 70,000 imágenes. Cada una de estas imágenes pertenece a una de diz categorías posibles. Todas las categorías están relacionadas con ropa. Las imágenes con las que vamos a jugar son muy pequeñas (28 por 28 pixels).\n",
        "\n",
        "En general, uno tiene que trabajar con imágenes de mayor resolución pero vamos a utilizar estas imágenes pequeñas por lo siguinete: Para entrenar modelos de aprendizaje automático normalmente tenemos que reducir el tamaño de las imágenes porque si no tendríamos que hacer montones de operaciones (sumas y multiplicaciones, principalmente). Además, lo meas imprtante es que sepamos modificar imágenes... ya que seamos expertos podemos traer imágenes más complicadas (recuerda que ahorita son en esacala de grises pero luego vamos a trabajar con imágenes a color).\n",
        "\n",
        "Keras nos hace la vida fácil porque ya tiene este conjunto de imágenes **Fashion MNIST** (porque se llama así este grupo de imágenes te lo dejo de tarea). No sólo vamos a subir estas imágenes sino que las vamos a dividir en dos grupos: un grupo de 60,000 imágenes que vamos a usar para entrenar nuestros modelos y otro grupo con las 10,000 imágenes restantes que vamos a utiilizar para probar si los modelos que entrenamos realmente están funcionando bien. Además de las imágenes, vamos a guardar las etiquetas correspondientes. Cada imagen tiene una etiqueta asociada a ella y nos indica a qué clase de ropa pertenece la imagen.\n"
      ]
    },
    {
      "cell_type": "code",
      "metadata": {
        "id": "n3x37pnE1dqr",
        "colab_type": "code",
        "colab": {}
      },
      "source": [
        "fashion_mnist = keras.datasets.fashion_mnist\n",
        "\n",
        "(imagenes_entrenamiento, etiquetas_entrenamiento), (imagenes_prueba, etiquetas_prueba) = fashion_mnist.load_data()"
      ],
      "execution_count": 0,
      "outputs": []
    },
    {
      "cell_type": "markdown",
      "metadata": {
        "id": "kFkwrHDe3O9c",
        "colab_type": "text"
      },
      "source": [
        "Recuerda que las imágenes tienen 28 x 28 pixels. Para la computadora, una imagen es un arreglo NumPy y cada pixel va de 0 (negro) and 255 (blanco).\n",
        "\n",
        "Las etiquetas son números del 0 al 9. Cada número es una tipo de ropa distinto.\n",
        "\n",
        "<table>\n",
        "  <tr>\n",
        "    <th>Etiqueta</th>\n",
        "    <th>Clase</th>\n",
        "  </tr>\n",
        "  <tr>\n",
        "    <td>0</td>\n",
        "    <td>Playera</td>\n",
        "  </tr>\n",
        "  <tr>\n",
        "    <td>1</td>\n",
        "    <td>Pantalón</td>\n",
        "  </tr>\n",
        "    <tr>\n",
        "    <td>2</td>\n",
        "    <td>Sweater</td>\n",
        "  </tr>\n",
        "    <tr>\n",
        "    <td>3</td>\n",
        "    <td>Vestido</td>\n",
        "  </tr>\n",
        "    <tr>\n",
        "    <td>4</td>\n",
        "    <td>Abrigo</td>\n",
        "  </tr>\n",
        "    <tr>\n",
        "    <td>5</td>\n",
        "    <td>Sandalia</td>\n",
        "  </tr>\n",
        "    <tr>\n",
        "    <td>6</td>\n",
        "    <td>Camisa</td>\n",
        "  </tr>\n",
        "    <tr>\n",
        "    <td>7</td>\n",
        "    <td>Zapato</td>\n",
        "  </tr>\n",
        "    <tr>\n",
        "    <td>8</td>\n",
        "    <td>Bolsa</td>\n",
        "  </tr>\n",
        "    <tr>\n",
        "    <td>9</td>\n",
        "    <td>Bota</td>\n",
        "  </tr>\n",
        "</table>\n",
        "\n",
        "Como mencionamos previamente, cada imagen tiene una etiqueta asociada a ella. Los nombres de las clases no están incluidos con este grupo de imágenes así que tenemos que relacionar cada clase con el tipo de ropa correcto:"
      ]
    },
    {
      "cell_type": "code",
      "metadata": {
        "id": "lz517krV4qRq",
        "colab_type": "code",
        "colab": {}
      },
      "source": [
        "nombres_clases = ['Playera', 'Pantalón', 'Sweater', 'Vestido', 'Abrigo',\n",
        "                 'Sandalia', 'Camisa', 'Zapato', 'Bolsa', 'Bota']"
      ],
      "execution_count": 0,
      "outputs": []
    },
    {
      "cell_type": "markdown",
      "metadata": {
        "id": "y1jAJgJQ5Zm7",
        "colab_type": "text"
      },
      "source": [
        "## Jugando con las imágenes\n",
        "Vamos primero a revisar que efectivamente tenemos 70,000 imágenes de tamaño 28 x 28 pixels.\n",
        "\n",
        "Esperamos que 60,000 estén en las imágenes de entrenamiento y 10,000 en las imágenes de prueba"
      ]
    },
    {
      "cell_type": "code",
      "metadata": {
        "id": "zSDtHJE257hj",
        "colab_type": "code",
        "colab": {
          "base_uri": "https://localhost:8080/",
          "height": 34
        },
        "outputId": "091bc953-3588-46fd-f43b-ddc868d039ae"
      },
      "source": [
        "imagenes_entrenamiento.shape"
      ],
      "execution_count": 9,
      "outputs": [
        {
          "output_type": "execute_result",
          "data": {
            "text/plain": [
              "(60000, 28, 28)"
            ]
          },
          "metadata": {
            "tags": []
          },
          "execution_count": 9
        }
      ]
    },
    {
      "cell_type": "code",
      "metadata": {
        "id": "hQPvDQk26Y-i",
        "colab_type": "code",
        "colab": {
          "base_uri": "https://localhost:8080/",
          "height": 34
        },
        "outputId": "24854e9c-351a-4cad-a83e-fb7e45b5e534"
      },
      "source": [
        "imagenes_prueba.shape"
      ],
      "execution_count": 10,
      "outputs": [
        {
          "output_type": "execute_result",
          "data": {
            "text/plain": [
              "(10000, 28, 28)"
            ]
          },
          "metadata": {
            "tags": []
          },
          "execution_count": 10
        }
      ]
    },
    {
      "cell_type": "markdown",
      "metadata": {
        "id": "5dVMTlwG6eNC",
        "colab_type": "text"
      },
      "source": [
        "Ahora hay que revisar que también tenemos 60,000 etiquetas para entrenar y 10,000 para hacer pruebas:"
      ]
    },
    {
      "cell_type": "code",
      "metadata": {
        "id": "rS7krHRN6nO3",
        "colab_type": "code",
        "colab": {
          "base_uri": "https://localhost:8080/",
          "height": 34
        },
        "outputId": "747ffe63-71e6-450e-e6e2-9066029aeca6"
      },
      "source": [
        "len(etiquetas_entrenamiento)"
      ],
      "execution_count": 11,
      "outputs": [
        {
          "output_type": "execute_result",
          "data": {
            "text/plain": [
              "60000"
            ]
          },
          "metadata": {
            "tags": []
          },
          "execution_count": 11
        }
      ]
    },
    {
      "cell_type": "code",
      "metadata": {
        "id": "NQhdP_fB6tJA",
        "colab_type": "code",
        "colab": {
          "base_uri": "https://localhost:8080/",
          "height": 34
        },
        "outputId": "90f87d7f-4798-433b-fbcb-f8f5a7751f74"
      },
      "source": [
        "len(etiquetas_prueba)"
      ],
      "execution_count": 12,
      "outputs": [
        {
          "output_type": "execute_result",
          "data": {
            "text/plain": [
              "10000"
            ]
          },
          "metadata": {
            "tags": []
          },
          "execution_count": 12
        }
      ]
    }
  ]
}